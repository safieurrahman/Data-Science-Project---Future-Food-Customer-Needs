{
 "cells": [
  {
   "cell_type": "code",
   "execution_count": 24,
   "metadata": {},
   "outputs": [],
   "source": [
    "# Define Libraries\n",
    "import numpy as np\n",
    "import pandas as pd\n",
    "import matplotlib.pyplot as plt\n",
    "import seaborn as sns\n",
    "from sklearn.feature_selection import SelectKBest\n",
    "from sklearn.feature_selection import chi2\n",
    "from sklearn.model_selection import train_test_split\n",
    "from sklearn.ensemble.forest import RandomForestClassifier\n",
    "from sklearn.feature_selection import SelectFromModel\n",
    "from sklearn.metrics import make_scorer, accuracy_score, precision_score, mean_squared_error\n",
    "from sklearn.metrics import average_precision_score\n",
    "from sklearn.impute import SimpleImputer\n",
    "\n",
    "import warnings\n",
    "warnings.filterwarnings('ignore')\n"
   ]
  },
  {
   "cell_type": "code",
   "execution_count": 25,
   "metadata": {},
   "outputs": [],
   "source": [
    "def clean_numeric(x, function='int'):\n",
    "\ttry:\n",
    "\t\tif function == 'float':\n",
    "\t\t\tresult = float(x)\n",
    "\t\telse: \n",
    "\t\t\tresult = int(x)\n",
    "\texcept:\n",
    "\t\tresult = np.nan\n",
    "\treturn result\n",
    "\n",
    "def clean_numeric_column(data, column_name, function='int'):\n",
    "\timputer = SimpleImputer(missing_values=np.nan, strategy='mean')\n",
    "\tresult = imputer.fit_transform(np.array(data[column_name].apply(lambda x: clean_numeric(x, function))).reshape(-1,1)).flatten()\n",
    "\treturn pd.Series(result)\n",
    "\n",
    "def clean_all_columns(data):\n",
    "\tresult = data.copy()\n",
    "\tfor x in [('GPA', 'float'), 'Gender', 'breakfast', 'calories_chicken',\t'calories_day', 'calories_scone', 'coffee', \n",
    "\t'comfort_food_reasons_coded', 'cook', 'comfort_food_reasons_coded', 'cuisine', 'diet_current_coded', 'eating_changes_coded',\n",
    "\t'eating_changes_coded1', 'eating_out', 'employment', 'ethnic_food', 'exercise', 'father_education', 'fav_cuisine_coded', 'fav_food',\n",
    "\t'fries', 'fruit_day', 'grade_level', 'greek_food', 'ideal_diet_coded', 'income', 'indian_food', 'italian_food', 'life_rewarding', 'marital_status', \n",
    "\t'mother_education', 'nutritional_check', 'on_off_campus', 'parents_cook', 'pay_meal_out', 'persian_food', 'self_perception_weight', 'soup', 'sports', 'thai_food', 'tortilla_calories', 'turkey_calories',\n",
    "\t'veggies_day', 'vitamins', 'waffle_calories', 'weight']:\n",
    "\t\tif type(x) == tuple:\n",
    "\t\t\tclean_column = clean_numeric_column(result, x[0], x[1])\n",
    "\t\t\tresult.drop(labels=x[0], axis='columns', inplace=True)\n",
    "\t\t\tresult[x[0]] = clean_column\n",
    "\t\telse:\n",
    "\t\t\tclean_column = clean_numeric_column(result, x, 'int')\n",
    "\t\t\tresult.drop(labels=x, axis='columns', inplace=True)\n",
    "\t\t\tresult[x] = clean_column\n",
    "\treturn result"
   ]
  },
  {
   "cell_type": "code",
   "execution_count": 26,
   "metadata": {},
   "outputs": [
    {
     "name": "stdout",
     "output_type": "stream",
     "text": [
      "Index(['comfort_food', 'comfort_food_reasons', 'comfort_food_reasons_coded.1',\n",
      "       'diet_current', 'drink', 'eating_changes', 'father_profession',\n",
      "       'fav_cuisine', 'food_childhood', 'healthy_feeling', 'healthy_meal',\n",
      "       'ideal_diet', 'meals_dinner_friend', 'mother_profession', 'type_sports',\n",
      "       'GPA', 'Gender', 'breakfast', 'calories_chicken', 'calories_day',\n",
      "       'calories_scone', 'coffee', 'cook', 'comfort_food_reasons_coded',\n",
      "       'cuisine', 'diet_current_coded', 'eating_changes_coded',\n",
      "       'eating_changes_coded1', 'eating_out', 'employment', 'ethnic_food',\n",
      "       'exercise', 'father_education', 'fav_cuisine_coded', 'fav_food',\n",
      "       'fries', 'fruit_day', 'grade_level', 'greek_food', 'ideal_diet_coded',\n",
      "       'income', 'indian_food', 'italian_food', 'life_rewarding',\n",
      "       'marital_status', 'mother_education', 'nutritional_check',\n",
      "       'on_off_campus', 'parents_cook', 'pay_meal_out', 'persian_food',\n",
      "       'self_perception_weight', 'soup', 'sports', 'thai_food',\n",
      "       'tortilla_calories', 'turkey_calories', 'veggies_day', 'vitamins',\n",
      "       'waffle_calories', 'weight'],\n",
      "      dtype='object')\n",
      "fav_cuisine_coded\n",
      "0.0     6\n",
      "1.0    59\n",
      "2.0    15\n",
      "3.0     2\n",
      "4.0    22\n",
      "5.0    15\n",
      "6.0     1\n",
      "7.0     1\n",
      "8.0     4\n",
      "Name: fav_cuisine_coded, dtype: int64\n",
      "fav_cuisine_coded\n",
      "1.0    59\n",
      "2.0    15\n",
      "4.0    26\n",
      "5.0    15\n",
      "Name: fav_cuisine_coded, dtype: int64\n",
      "fav_cuisine_coded\n",
      "1.0    0.513043\n",
      "2.0    0.130435\n",
      "4.0    0.226087\n",
      "5.0    0.130435\n",
      "Name: fav_cuisine_coded, dtype: float64\n"
     ]
    }
   ],
   "source": [
    "#load file\n",
    "df=pd.read_csv(\"food_coded.csv\")\n",
    "df.head(5)\n",
    "df_1 = clean_all_columns(df)\n",
    "\n",
    "print(df_1.columns)\n",
    "#print(y.columns)\n",
    "#print(y.head(5))\n",
    "\n",
    "\n",
    "# Simplying data due to low training data avaialble\n",
    "    # Removing 2,6,7 categroy due to low count\n",
    "    # Adding 8 to 4 because indian food also comes under the umbrella of Asian food\n",
    "    # Removing 0 because they are undecided and have low counts\n",
    "\n",
    "print(df_1.groupby(['fav_cuisine_coded']).fav_cuisine_coded.count())\n",
    "\n",
    "df_1.loc[df_1['fav_cuisine_coded']==8] = 4\n",
    "df_1=df_1[df_1['fav_cuisine_coded'].isin([1,2,4,5])]\n",
    "\n",
    "print(df_1.groupby(['fav_cuisine_coded']).fav_cuisine_coded.count())\n",
    "print((df_1.groupby(['fav_cuisine_coded']).fav_cuisine_coded.count())/len(df_1))\n",
    "# Split it into input features and output \n",
    "\n",
    "\n"
   ]
  },
  {
   "cell_type": "code",
   "execution_count": 27,
   "metadata": {},
   "outputs": [
    {
     "name": "stdout",
     "output_type": "stream",
     "text": [
      "0  :  comfort_food\n",
      "1  :  comfort_food_reasons\n",
      "2  :  comfort_food_reasons_coded.1\n",
      "3  :  diet_current\n",
      "4  :  drink\n",
      "5  :  eating_changes\n",
      "6  :  father_profession\n",
      "7  :  fav_cuisine\n",
      "8  :  food_childhood\n",
      "9  :  healthy_feeling\n",
      "10  :  healthy_meal\n",
      "11  :  ideal_diet\n",
      "12  :  meals_dinner_friend\n",
      "13  :  mother_profession\n",
      "14  :  type_sports\n",
      "15  :  GPA\n",
      "16  :  Gender\n",
      "17  :  breakfast\n",
      "18  :  calories_chicken\n",
      "19  :  calories_day\n",
      "20  :  calories_scone\n",
      "21  :  coffee\n",
      "22  :  cook\n",
      "23  :  comfort_food_reasons_coded\n",
      "24  :  cuisine\n",
      "25  :  diet_current_coded\n",
      "26  :  eating_changes_coded\n",
      "27  :  eating_changes_coded1\n",
      "28  :  eating_out\n",
      "29  :  employment\n",
      "30  :  ethnic_food\n",
      "31  :  exercise\n",
      "32  :  father_education\n",
      "33  :  fav_cuisine_coded\n",
      "34  :  fav_food\n",
      "35  :  fries\n",
      "36  :  fruit_day\n",
      "37  :  grade_level\n",
      "38  :  greek_food\n",
      "39  :  ideal_diet_coded\n",
      "40  :  income\n",
      "41  :  indian_food\n",
      "42  :  italian_food\n",
      "43  :  life_rewarding\n",
      "44  :  marital_status\n",
      "45  :  mother_education\n",
      "46  :  nutritional_check\n",
      "47  :  on_off_campus\n",
      "48  :  parents_cook\n",
      "49  :  pay_meal_out\n",
      "50  :  persian_food\n",
      "51  :  self_perception_weight\n",
      "52  :  soup\n",
      "53  :  sports\n",
      "54  :  thai_food\n",
      "55  :  tortilla_calories\n",
      "56  :  turkey_calories\n",
      "57  :  veggies_day\n",
      "58  :  vitamins\n",
      "59  :  waffle_calories\n",
      "60  :  weight\n"
     ]
    }
   ],
   "source": [
    "\n",
    "for (i,names) in enumerate(df_1.columns):\n",
    "    print (i,\" : \",names)\n",
    "#string_cols = [0,7,8,13,16,24,25,28,34,35,42,44,56,60]    \n",
    "string_cols = [0,1,2,3,4,5,6,7,8,9,10,11,12,13,14]\n",
    "#0 cleanign string \n",
    "\n",
    "df_retain = df_1.drop(df_1.columns[string_cols], axis = 1) \n",
    "#print(df_retain.head(5))\n",
    "\n"
   ]
  },
  {
   "cell_type": "code",
   "execution_count": 28,
   "metadata": {
    "scrolled": false
   },
   "outputs": [],
   "source": [
    "#test-train split using stratification\n",
    "\n",
    "# STRATIFIED SAMPLING \n",
    "X = df_retain.loc[:, df_retain.columns != 'fav_cuisine_coded']\n",
    "y = df_retain[['fav_cuisine_coded']]\n",
    "\n",
    "X_train, tempX_test, y_train, tempY_test = train_test_split(X, y,stratify=y,test_size=0.30)\n",
    "x_val, x_test, y_val, y_test = train_test_split(tempX_test, tempY_test,stratify=tempY_test,test_size=0.64)\n",
    "\n",
    "# Training Set : X_train, y_train\n",
    "# Validation Set : x_val ,  y_val\n",
    "# Testing Set : x_test , y_test\n",
    "\n",
    "\n",
    "#print(y_train.groupby(['fav_cuisine_coded']).fav_cuisine_coded.count())\n",
    "#print(y_test.groupby(['fav_cuisine_coded']).fav_cuisine_coded.count())\n",
    "#print(y_val.groupby(['fav_cuisine_coded']).fav_cuisine_coded.count())\n",
    "#print(X_train.head(2))"
   ]
  },
  {
   "cell_type": "code",
   "execution_count": 29,
   "metadata": {},
   "outputs": [],
   "source": [
    "def feature_selection_RF(X_train, y_train,x_val ,  y_val):\n",
    "    clf = RandomForestClassifier(n_estimators = 100, random_state=0, n_jobs=-1)\n",
    "    clf.fit(X_train, y_train)\n",
    "    #for feature in zip(X_train.columns, clf.feature_importances_):\n",
    "        #print(feature)\n",
    "    sfm = SelectFromModel(clf, threshold=0.025)\n",
    "    sfm.fit(X_train, y_train)\n",
    "    #for feature_list_index in sfm.get_support(indices=True):\n",
    "        #print(X_train.columns[feature_list_index])\n",
    "    \n",
    "    X_important_train = sfm.transform(X_train)\n",
    "    X_important_val = sfm.transform(x_val)\n",
    "    \n",
    "    clf_important = RandomForestClassifier(n_estimators=100, random_state=0, n_jobs=-1)\n",
    "    clf_important.fit(X_important_train, y_train)\n",
    "    \n",
    "    y_pred = clf.predict(x_val)\n",
    "    acc_full = accuracy_score(y_val, y_pred)\n",
    "    print(acc_full)\n",
    "    \n",
    "    y_important_pred = clf_important.predict(X_important_val)\n",
    "    acc_new = accuracy_score(y_val, y_important_pred)\n",
    "    print(acc_new)\n",
    "    top__cols = list(X_train.columns[sfm.get_support(indices=True)])\n",
    "    #print(top__cols)\n",
    "    return top__cols"
   ]
  },
  {
   "cell_type": "code",
   "execution_count": 30,
   "metadata": {},
   "outputs": [],
   "source": [
    "#standardization\n",
    "\n",
    "    # This will be done once data is cleaned"
   ]
  },
  {
   "cell_type": "code",
   "execution_count": 31,
   "metadata": {
    "scrolled": false
   },
   "outputs": [],
   "source": [
    "# Data Exploration\n",
    "# scatter plots\n",
    "\n",
    "# sns.set()\n",
    "# sns.pairplot(X_train)\n",
    "# plt.show();"
   ]
  },
  {
   "cell_type": "code",
   "execution_count": 32,
   "metadata": {},
   "outputs": [],
   "source": [
    "# histograms\n",
    "\n",
    "# %matplotlib inline\n",
    "# X_train.hist(bins=50, figsize=(50,50))\n",
    "# plt.show()"
   ]
  },
  {
   "cell_type": "code",
   "execution_count": 33,
   "metadata": {},
   "outputs": [],
   "source": [
    "#Data Exploration based on Clustering\n",
    "\n",
    "#df_new = df.iloc[:,[37,19,10,]]\n",
    "# Low income has greater eating out, low cook average\n",
    "\n",
    "#df_new = df.iloc[:,[17,19,48]]\n",
    "# When eating changes better, greater eating out, less pay meal out (go out more frequent but want to pay less. )\n",
    "\n",
    "df_new = df.iloc[:,[4,19,48]]\n",
    "# Calories greater, eating out more, pay meal less (those going out & calories-aware are willing to pay less)\n",
    "\n",
    "#df_new = df.iloc[:,[4,15]]\n",
    "# Calories-aware prefer orange juice over SIDA\n",
    "\n",
    "#df_new = df.iloc[:,[19,47]]\n",
    "# Simple ,, parent cook more, you eat out less\n",
    "\n",
    "#df_new = df.iloc[:,[37,47]]\n",
    "#No relation b/w income and parent_cook so it means parent_cook doesn't depend on your income \n",
    "\n",
    "#df_new = df.iloc[:,[12,47]]\n",
    "#No relation b/w income and parent_cook so it means parent_cook doesn't depend on your income \n",
    "\n",
    "#df_new = df.iloc[:,[17,12]]\n",
    "#No relation b/w eating_changes_coded and cuisine"
   ]
  },
  {
   "cell_type": "code",
   "execution_count": 34,
   "metadata": {},
   "outputs": [
    {
     "name": "stdout",
     "output_type": "stream",
     "text": [
      "         calories_day  eating_out  pay_meal_out  data_index\n",
      "cluster                                                    \n",
      "0.0          3.053267    2.585366      3.365854   62.402299\n",
      "1.0          3.084513    2.875000      3.541667   66.035714\n"
     ]
    }
   ],
   "source": [
    "df_1 = pd.DataFrame(X,columns = df_new.columns)\n",
    "from sklearn.cluster import KMeans\n",
    "myKMC = KMeans(n_clusters = 2)\n",
    "myKMC.fit(df_1)\n",
    "\n",
    "cluster_map = pd.DataFrame()\n",
    "cluster_map['data_index'] = df_1.index.values\n",
    "cluster_map['cluster'] = myKMC.labels_\n",
    "results = pd.concat([df_1,cluster_map],axis=1,sort=False)\n",
    "print(results.groupby(['cluster']).mean())"
   ]
  },
  {
   "cell_type": "code",
   "execution_count": 35,
   "metadata": {},
   "outputs": [],
   "source": [
    "def correlation_matrix(df_1):\n",
    "    from matplotlib.colors import ListedColormap\n",
    "    \n",
    "    corrMatrix = df.corr()\n",
    "    fig, ax = plt.subplots(figsize=(30,30))\n",
    "    #sns.heatmap(corrMatrix,cmap=ListedColormap(['green','green', 'yellow','red', 'red']), annot=True,linewidths=.5, ax=ax)\n",
    "    sns.heatmap(corrMatrix, annot=True,linewidths=.5, ax=ax)   \n",
    "    plt.show()"
   ]
  },
  {
   "cell_type": "code",
   "execution_count": 36,
   "metadata": {},
   "outputs": [],
   "source": [
    "#correlation_matrix(df_sel_clean)"
   ]
  },
  {
   "cell_type": "code",
   "execution_count": 37,
   "metadata": {},
   "outputs": [],
   "source": [
    "def chi_square_feature_sel(X_train,y_train,total_col_selected):\n",
    "    df_train_chi_ind = X_train\n",
    "    df_train_chi_dep = y_train\n",
    "    \n",
    "    bestfeatures = SelectKBest(score_func=chi2, k=20)\n",
    "    fit = bestfeatures.fit(df_train_chi_ind,df_train_chi_dep)\n",
    "    \n",
    "    dfscores = pd.DataFrame(fit.scores_)\n",
    "    dfcolumns = pd.DataFrame(df_train_chi_ind.columns)\n",
    "    \n",
    "    #concat two dataframes for better visualization \n",
    "    \n",
    "    featureScores = pd.concat([dfcolumns,dfscores],axis=1)\n",
    "    \n",
    "    featureScores.columns = ['Specs','Score']  #naming the dataframe columns\n",
    "    #print(featureScores.nlargest(20,'Score'))  #print 10 best features\n",
    "    \n",
    "    top_n_columns = featureScores.sort_values('Score',ascending=False).head(total_col_selected).Specs\n",
    "    return top_n_columns"
   ]
  },
  {
   "cell_type": "code",
   "execution_count": 38,
   "metadata": {
    "scrolled": false
   },
   "outputs": [
    {
     "name": "stdout",
     "output_type": "stream",
     "text": [
      "0.75\n",
      "0.5833333333333334\n",
      "{'thai_food', 'exercise', 'eating_out', 'comfort_food_reasons_coded', 'on_off_campus', 'waffle_calories', 'weight', 'ethnic_food', 'life_rewarding', 'income'}\n"
     ]
    }
   ],
   "source": [
    "top_n_cols = chi_square_feature_sel(X_train,y_train,20)\n",
    "top_n_cols_RF = feature_selection_RF(X_train, y_train,x_val,y_val)\n",
    "\n",
    "top_n_cols_final =  set(top_n_cols).intersection(set(top_n_cols_RF))\n",
    "#top_n_cols.append('fav_cuisine_coded')\n",
    "print( set(top_n_cols) & set(top_n_cols_RF))\n",
    "\n",
    "#Commenting others and proceeding with the data that gives best ensemble learning accuracy on test set\n",
    "\n",
    "X_train =  X_train[X_train.columns.intersection(top_n_cols_final)]\n",
    "x_val =  x_val[x_val.columns.intersection(top_n_cols_final)]\n",
    "x_test =  x_test[x_test.columns.intersection(top_n_cols_final)]\n",
    "\n",
    "# top_n_cols=list(top_n_cols)\n",
    "# X_train =  X_train[X_train.columns.intersection(top_n_cols)]\n",
    "# x_val =  x_val[x_val.columns.intersection(top_n_cols)]\n",
    "# x_test =  x_test[x_test.columns.intersection(top_n_cols)]\n",
    "\n",
    "# X_train =  X_train[X_train.columns.intersection(top_n_cols_RF)]\n",
    "# x_val =  x_val[x_val.columns.intersection(top_n_cols_RF)]\n",
    "# x_test =  x_test[x_test.columns.intersection(top_n_cols_RF)]\n",
    "\n",
    "#df_sel_features =  df_sel_clean[df_sel_clean.columns.intersection(top_n_cols)]"
   ]
  },
  {
   "cell_type": "code",
   "execution_count": 39,
   "metadata": {},
   "outputs": [],
   "source": [
    "#standardization\n",
    "from sklearn.preprocessing import StandardScaler\n",
    "scaler = StandardScaler()\n",
    "scaler.fit(X_train) \n",
    "X_train = pd.DataFrame(scaler.transform(X_train),columns = X_train.columns)\n",
    "\n",
    "scaler = StandardScaler()\n",
    "scaler.fit(x_val) \n",
    "x_val = pd.DataFrame(scaler.transform(x_val),columns = x_val.columns)\n",
    "\n",
    "scaler = StandardScaler()\n",
    "scaler.fit(x_test) \n",
    "x_test = pd.DataFrame(scaler.transform(x_test),columns = x_test.columns)\n",
    "\n",
    "    # This will be done once data is cleaned"
   ]
  },
  {
   "cell_type": "code",
   "execution_count": 40,
   "metadata": {},
   "outputs": [
    {
     "name": "stdout",
     "output_type": "stream",
     "text": [
      "[1. 2. 1. 1. 4. 2. 1. 5. 1. 5. 4. 1.]\n"
     ]
    },
    {
     "data": {
      "text/plain": [
       "0.34782608695652173"
      ]
     },
     "execution_count": 40,
     "metadata": {},
     "output_type": "execute_result"
    }
   ],
   "source": [
    "#model implementation\n",
    "from sklearn.linear_model import LogisticRegression\n",
    "softmax_reg = LogisticRegression(multi_class=\"multinomial\",solver=\"lbfgs\", C=10, random_state=42)\n",
    "softmax_reg.fit(X_train, y_train)\n",
    "\n",
    "c_est = softmax_reg.predict(x_val)\n",
    "probs = softmax_reg.predict_proba(x_val)\n",
    "print(c_est)\n",
    "\n",
    "#print(x_val)\n",
    "#print(y_val)\n",
    "\n",
    "from sklearn.metrics import accuracy_score\n",
    "\n",
    "#accuracy_score(y_val, c_est)\n",
    "\n",
    "\n",
    "# GBT (Gradient Boosting Trees)\n",
    "# Logistic Regeression\n",
    "\n",
    "#Ensemble Learning \n",
    "\n",
    "\n",
    "c_est = softmax_reg.predict(x_test)\n",
    "accuracy_score(y_test, c_est)\n",
    "\n"
   ]
  },
  {
   "cell_type": "code",
   "execution_count": 41,
   "metadata": {},
   "outputs": [
    {
     "name": "stdout",
     "output_type": "stream",
     "text": [
      "Tuned hpyerparameters :(best parameters)  {'C': 100.0, 'multi_class': 'multinomial', 'penalty': 'l2', 'solver': 'lbfgs'}\n",
      "Accuracy : 0.45186868686868686\n",
      "[1. 4. 5. 5. 1. 4. 1. 1. 4. 2. 1. 1. 1. 2. 2. 5. 1. 1. 1. 1. 1. 2. 2.]\n"
     ]
    }
   ],
   "source": [
    "#Grid search for finding right hyperparameter for Multinomial and One vs All Regression\n",
    "\n",
    "from sklearn.model_selection import GridSearchCV\n",
    "\n",
    "#acc_scorer = make_scorer(average_precision)\n",
    "\n",
    "grid={\"C\":np.logspace(-3,3,7),\"multi_class\":[\"multinomial\",\"ovr\",], \"penalty\":[\"l1\",\"l2\"], \"solver\":[\"lbfgs\",\"saga\",\"newton-cg\"]} # l1 lasso l2 ridge\n",
    "logreg=LogisticRegression(random_state=42)\n",
    "logreg_cv=GridSearchCV(logreg, grid, cv=10, scoring = 'f1_weighted')\n",
    "logreg_cv.fit(X_train,y_train)\n",
    "\n",
    "\n",
    "print(\"Tuned hpyerparameters :(best parameters) \",logreg_cv.best_params_)\n",
    "print(\"Accuracy :\",logreg_cv.best_score_)\n",
    "\n",
    "\n",
    "# Set the logreg_best to the best combination of parameters\n",
    "logreg_best = logreg_cv.best_estimator_\n",
    "\n",
    "# Fit the best algorithm to the data. \n",
    "logreg_best.fit(X_train, y_train)\n",
    "\n",
    "logreg_est = logreg_best.predict(x_test)\n",
    "accuracy_score(y_test, logreg_est)\n",
    "\n",
    "print (logreg_est)"
   ]
  },
  {
   "cell_type": "code",
   "execution_count": 42,
   "metadata": {},
   "outputs": [
    {
     "name": "stdout",
     "output_type": "stream",
     "text": [
      "[[0.92946983 1.31438618 0.86996529 1.10253515 1.52333924 0.71965833\n",
      "  0.5874192  1.47960991 0.61351409 1.12614255]\n",
      " [1.16928715 2.17762169 2.53788865 0.61034187 0.58135644 1.31571259\n",
      "  1.12804426 0.68167102 6.48889053 1.2898174 ]\n",
      " [0.59697805 1.17773089 1.45845153 1.83913552 0.75572156 0.84838994\n",
      "  0.90888653 1.88313835 0.41873714 1.00935707]\n",
      " [1.54129284 0.29665284 0.31055141 0.8080173  1.49416676 1.24485023\n",
      "  1.66041274 0.52649677 0.59987882 0.68207726]]\n",
      "[6, 8, 4, 7, 5]\n",
      "(-0.41, -0.39, 0.52, 0.48, -0.28)\n",
      "Index(['on_off_campus', 'waffle_calories', 'income', 'thai_food',\n",
      "       'life_rewarding'],\n",
      "      dtype='object')\n",
      "[8, 2, 1, 4, 3]\n",
      "(5.49, 1.54, 1.18, -0.42, -0.39)\n",
      "Index(['waffle_calories', 'ethnic_food', 'eating_out', 'income', 'exercise'], dtype='object')\n",
      "[8, 7, 3, 0, 2]\n",
      "(-0.58, 0.88, 0.84, -0.4, 0.46)\n",
      "Index(['waffle_calories', 'thai_food', 'exercise',\n",
      "       'comfort_food_reasons_coded', 'ethnic_food'],\n",
      "      dtype='object')\n",
      "[1, 2, 7, 8, 6]\n",
      "(-0.7, -0.69, -0.47, -0.4, 0.66)\n",
      "Index(['eating_out', 'ethnic_food', 'thai_food', 'waffle_calories',\n",
      "       'on_off_campus'],\n",
      "      dtype='object')\n"
     ]
    }
   ],
   "source": [
    "#print(logreg_best.intercept_)\n",
    "#print(logreg_best.coef_)\n",
    "print(np.exp(logreg_best.coef_))\n",
    "\n",
    "#for (i,names) in enumerate(X_train.columns):\n",
    "    #print (i,\" : \",names)\n",
    "\n",
    "for j in range(4):\n",
    "    feature_importance = abs(logreg_best.coef_[j])\n",
    "    absolute_feature_importance = abs(logreg_best.coef_[j])\n",
    "    feature_importance = np.exp(logreg_best.coef_[j])\n",
    "    feature_importance = [x - 1 for x in feature_importance]\n",
    "    feature_importance = list(np.around(np.array(feature_importance),2))\n",
    "    from operator import itemgetter \n",
    "    top_features = sorted(range(len(absolute_feature_importance)), key=lambda i: absolute_feature_importance[i], reverse=True)[:5]\n",
    "    top_features_values = itemgetter(*top_features)(feature_importance)\n",
    "    top_features_column = X_train.columns[top_features]\n",
    "    print(top_features)\n",
    "    print(top_features_values)\n",
    "    print(top_features_column)\n",
    "    # Need to create historgram only\n",
    "    # ONe histogram for important features of every food\n",
    "    # One historgram per Food about importance\n",
    "    "
   ]
  },
  {
   "cell_type": "code",
   "execution_count": 43,
   "metadata": {},
   "outputs": [
    {
     "name": "stdout",
     "output_type": "stream",
     "text": [
      "tuned hpyerparameters :(best parameters)  {'learning_rate': 0.2, 'n_estimators': 10}\n",
      "accuracy : 0.4327579365079364\n",
      "[1. 1. 1. 5. 1. 1. 1. 1. 4. 4. 1. 1. 1. 1. 1. 1. 1. 1. 1. 1. 5. 2. 1.]\n"
     ]
    }
   ],
   "source": [
    "#Grid search for finding right hyperparameter for Gradient Boost Classification\n",
    "\n",
    "from sklearn.model_selection import GridSearchCV\n",
    "from sklearn.ensemble import GradientBoostingClassifier\n",
    "\n",
    "# parameters = {\n",
    "#     \"loss\":[\"deviance\"],\n",
    "#     \"learning_rate\": [0.01, 0.025, 0.05, 0.075, 0.1, 0.15, 0.2],\n",
    "#     \"min_samples_split\": np.linspace(0.1, 0.5, 12),\n",
    "#     \"min_samples_leaf\": np.linspace(0.1, 0.5, 12),\n",
    "#     \"max_depth\":[3,5,8],\n",
    "#     \"max_features\":[\"log2\",\"sqrt\"],\n",
    "#     \"criterion\": [\"friedman_mse\",  \"mae\"],\n",
    "#     \"subsample\":[0.5, 0.618, 0.8, 0.85, 0.9, 0.95, 1.0],\n",
    "#     \"n_estimators\":[10]\n",
    "#     }\n",
    "\n",
    "#Using a subset of parameters for early computation, more parameters could be added from above sample\n",
    "\n",
    "parameters = {\n",
    "    \"learning_rate\": [0.01, 0.025, 0.05, 0.075, 0.1, 0.15, 0.2, 0.3, 0.4, 0.5, 0.6],\n",
    "    \"n_estimators\":[10, 20, 30, 40 ,50, 60, 70, 80, 90, 100]\n",
    "    }\n",
    "\n",
    "acc_scorer = make_scorer(accuracy_score)\n",
    "\n",
    "grad_cv = GridSearchCV(GradientBoostingClassifier(random_state=42), parameters, cv=10, scoring='f1_weighted')\n",
    "grad_cv.fit(X_train, y_train)\n",
    "\n",
    "print(\"tuned hpyerparameters :(best parameters) \",grad_cv.best_params_)\n",
    "print(\"accuracy :\",grad_cv.best_score_)\n",
    "\n",
    "# Set the grad_best to the best combination of parameters\n",
    "grad_best = grad_cv.best_estimator_\n",
    "\n",
    "# Fit the best algorithm to the data. \n",
    "grad_best.fit(X_train, y_train)\n",
    "\n",
    "grad_est = grad_best.predict(x_test)\n",
    "accuracy_score(y_test, grad_est)\n",
    "\n",
    "print (grad_est)"
   ]
  },
  {
   "cell_type": "code",
   "execution_count": 44,
   "metadata": {},
   "outputs": [
    {
     "name": "stdout",
     "output_type": "stream",
     "text": [
      "tuned hpyerparameters :(best parameters)  {'learning_rate': 0.5, 'n_estimators': 100}\n",
      "accuracy : 0.42743686868686864\n",
      "[1. 1. 1. 5. 1. 1. 1. 1. 4. 4. 1. 1. 1. 2. 1. 4. 1. 1. 1. 1. 1. 4. 2.]\n"
     ]
    }
   ],
   "source": [
    "#Grid search for finding right hyperparameter for Ada Boost Classification\n",
    "\n",
    "from sklearn.ensemble import AdaBoostClassifier\n",
    "from sklearn.datasets import make_classification\n",
    "from sklearn.model_selection import GridSearchCV\n",
    "\n",
    "parameters = {\n",
    "    \"learning_rate\": [0.01, 0.025, 0.05, 0.075, 0.1, 0.15, 0.2, 0.3, 0.4, 0.5, 0.6],\n",
    "    \"n_estimators\":[10, 20, 30, 40 ,50, 60, 70, 80, 90, 100]\n",
    "    }\n",
    "\n",
    "acc_scorer = make_scorer(accuracy_score)\n",
    "\n",
    "ada_cv = GridSearchCV(AdaBoostClassifier(random_state=42), parameters, cv=10, scoring='f1_weighted')\n",
    "ada_cv.fit(X_train, y_train)\n",
    "\n",
    "print(\"tuned hpyerparameters :(best parameters) \",ada_cv.best_params_)\n",
    "print(\"accuracy :\",ada_cv.best_score_)\n",
    "\n",
    "# Set the ada_best to the best combination of parameters\n",
    "ada_best = ada_cv.best_estimator_\n",
    "\n",
    "# Fit the best algorithm to the data. \n",
    "ada_best.fit(X_train, y_train)\n",
    "\n",
    "ada_est = ada_best.predict(x_test)\n",
    "accuracy_score(y_test, ada_est)\n",
    "\n",
    "print (ada_est)"
   ]
  },
  {
   "cell_type": "code",
   "execution_count": 45,
   "metadata": {},
   "outputs": [
    {
     "name": "stdout",
     "output_type": "stream",
     "text": [
      "Accuracy is: 0.5652173913043478\n",
      "[1. 1. 5. 5. 1. 1. 1. 1. 4. 4. 1. 1. 1. 1. 2. 1. 1. 1. 1. 1. 1. 2. 1.]\n"
     ]
    }
   ],
   "source": [
    "#Ensemble learning implementation, with Logistic Regression (Multinomial or OVA), Gradient and Ada-Boost \n",
    "\n",
    "from sklearn.ensemble import VotingClassifier\n",
    "from sklearn.metrics import accuracy_score, f1_score, log_loss\n",
    "\n",
    "voting_clf = VotingClassifier(estimators=[('LRM', logreg_best), ('GDB', grad_best), ('ADB', ada_best)], voting='soft')\n",
    "voting_clf.fit(X_train, y_train)\n",
    "\n",
    "preds = voting_clf.predict(x_test)\n",
    "acc = accuracy_score(y_test, preds)\n",
    "\n",
    "print(\"Accuracy is: \" + str(acc))\n",
    "print (preds)"
   ]
  },
  {
   "cell_type": "code",
   "execution_count": 46,
   "metadata": {},
   "outputs": [
    {
     "name": "stdout",
     "output_type": "stream",
     "text": [
      "[  3   5  16  23  24  29  31  32  33  34  35  36  37  38  39  40  41  42\n",
      "  43  44  45  46  47  48  49  50  51  52  53  54  55  56  57  58  59  60\n",
      "  61  62  63  64  65  66  67  68  69  70  71  72  73  74  75  76  77  78\n",
      "  79  80  81  82  83  84  85  86  87  88  89  90  91  92  93  94  95  96\n",
      "  97  98  99 100 101 102 103 104 105 106 107 108 109 110 111 112 113 114\n",
      " 115 116 117 118 119 120 121 122 123 124]\n",
      "[  0   1   2   4   6   7   8   9  10  11  12  13  14  15  16  17  18  19\n",
      "  20  21  22  25  26  27  28  30  47  48  49  54  55  56  57  58  59  60\n",
      "  61  62  63  64  65  66  67  68  69  70  71  72  73  74  75  76  77  78\n",
      "  79  80  81  82  83  84  85  86  87  88  89  90  91  92  93  94  95  96\n",
      "  97  98  99 100 101 102 103 104 105 106 107 108 109 110 111 112 113 114\n",
      " 115 116 117 118 119 120 121 122 123 124]\n",
      "[  0   1   2   3   4   5   6   7   8   9  10  11  12  13  14  15  16  17\n",
      "  18  19  20  21  22  23  24  25  26  27  28  29  30  31  32  33  34  35\n",
      "  36  37  38  39  40  41  42  43  44  45  46  50  51  52  53  71  73  74\n",
      "  75  77  80  81  82  83  84  85  86  87  88  89  90  91  92  93  94  95\n",
      "  96  97  98  99 100 101 102 104 105 106 107 108 109 110 111 112 113 114\n",
      " 115 116 117 118 119 120 121 122 123 124]\n",
      "[  0   1   2   3   4   5   6   7   8   9  10  11  12  13  14  15  16  17\n",
      "  18  19  20  21  22  23  24  25  26  27  28  29  30  31  32  33  34  35\n",
      "  36  37  38  39  40  41  42  43  44  45  46  47  48  49  50  51  52  53\n",
      "  54  55  56  57  58  59  60  61  62  63  64  65  66  67  68  69  70  72\n",
      "  76  78  79  88  92  95 100 102 103 104 105 107 108 109 110 111 112 113\n",
      " 114 115 116 117 118 120 121 122 123 124]\n",
      "[  0   1   2   3   4   5   6   7   8   9  10  11  12  13  14  15  17  18\n",
      "  19  20  21  22  23  24  25  26  27  28  29  30  31  32  33  34  35  36\n",
      "  37  38  39  40  41  42  43  44  45  46  47  48  49  50  51  52  53  54\n",
      "  55  56  57  58  59  60  61  62  63  64  65  66  67  68  69  70  71  72\n",
      "  73  74  75  76  77  78  79  80  81  82  83  84  85  86  87  89  90  91\n",
      "  93  94  96  97  98  99 101 103 106 119]\n"
     ]
    }
   ],
   "source": [
    "#test-train split using StratifiedKFold that also shuffles the data\n",
    "\n",
    "from sklearn.model_selection import KFold, StratifiedKFold, ShuffleSplit\n",
    "\n",
    "X = df_sel_clean.loc[:, df_sel_clean.columns != 'fav_cuisine_coded']\n",
    "y = df_sel_clean[['fav_cuisine_coded']]\n",
    "\n",
    "cv = StratifiedKFold(n_splits=5)\n",
    "for train, test in cv.split(X,y):\n",
    "    print(train)"
   ]
  },
  {
   "cell_type": "code",
   "execution_count": 47,
   "metadata": {},
   "outputs": [
    {
     "data": {
      "image/png": "[encoded data removed]",
      "text/plain": [
       "<Figure size 1152x144 with 1 Axes>"
      ]
     },
     "metadata": {
      "needs_background": "light"
     },
     "output_type": "display_data"
    }
   ],
   "source": [
    "#Function for visualization of K-fold Stratified Sampling with 5 splits\n",
    "\n",
    "def plot_cv(cv, features, labels):\n",
    "    masks = []\n",
    "    for train, test in cv.split(features, labels):\n",
    "        mask = np.zeros(len(labels), dtype=bool)\n",
    "        mask[test] = 1\n",
    "        masks.append(mask)\n",
    "    \n",
    "    plt.matshow(masks, cmap='gray_r')\n",
    "    \n",
    "plot_cv(StratifiedKFold(n_splits=5),X,y)"
   ]
  },
  {
   "cell_type": "code",
   "execution_count": 48,
   "metadata": {},
   "outputs": [
    {
     "name": "stdout",
     "output_type": "stream",
     "text": [
      "[0.36 0.4  0.44 0.52 0.44]\n",
      "Mean: 0.43200000000000005\n",
      "Standard deviation: 0.053065996645686404\n"
     ]
    }
   ],
   "source": [
    "from sklearn.model_selection import cross_val_score\n",
    "\n",
    "scores = cross_val_score(voting_clf, X, y, cv=cv)\n",
    "print(scores)\n",
    "print(\"Mean:\", np.mean(scores.mean()))\n",
    "print(\"Standard deviation:\", np.mean(scores.std()))\n",
    "\n",
    "#Small SD indicates that the model doesn't overfit to a particular chunk of a data"
   ]
  },
  {
   "cell_type": "code",
   "execution_count": 49,
   "metadata": {},
   "outputs": [],
   "source": [
    "from sklearn.metrics import multilabel_confusion_matrix\n",
    "\n",
    "# classes = ['Italian/French/Greek', 'Spanish/mexican', 'Asian/Chinese/Thai/Nepal/Indian', 'American']\n",
    "# multilabel_confusion_matrix(y_test, preds)"
   ]
  },
  {
   "cell_type": "code",
   "execution_count": 50,
   "metadata": {},
   "outputs": [],
   "source": [
    "from sklearn.metrics import confusion_matrix\n",
    "\n",
    "classes = ['Italian/French/Greek', 'Spanish/mexican', 'Asian/Chinese/Thai/Nepal/Indian', 'American']\n",
    "#confusion_matrix(y_test, preds)"
   ]
  },
  {
   "cell_type": "code",
   "execution_count": 51,
   "metadata": {},
   "outputs": [
    {
     "name": "stdout",
     "output_type": "stream",
     "text": [
      "                                 precision    recall  f1-score   support\n",
      "\n",
      "           Italian/French/Greek       0.59      0.83      0.69        12\n",
      "                Spanish/mexican       0.00      0.00      0.00         3\n",
      "Asian/Chinese/Thai/Nepal/Indian       1.00      0.40      0.57         5\n",
      "                       American       0.50      0.33      0.40         3\n",
      "\n",
      "                       accuracy                           0.57        23\n",
      "                      macro avg       0.52      0.39      0.42        23\n",
      "                   weighted avg       0.59      0.57      0.54        23\n",
      "\n"
     ]
    },
    {
     "data": {
      "image/png": "[encoded data removed]",
      "text/plain": [
       "<Figure size 720x720 with 2 Axes>"
      ]
     },
     "metadata": {
      "needs_background": "light"
     },
     "output_type": "display_data"
    }
   ],
   "source": [
    "# print or plot  metrics / results\n",
    "\n",
    "from sklearn.metrics import classification_report, confusion_matrix, accuracy_score\n",
    "import itertools\n",
    "\n",
    "classes = ['Italian/French/Greek', 'Spanish/mexican', 'Asian/Chinese/Thai/Nepal/Indian', 'American']\n",
    "print(classification_report(y_test, preds, target_names=classes))\n",
    "\n",
    "cm = confusion_matrix(y_test, preds)\n",
    "classes = ['Italian/French/Greek', 'Spanish/mexican', 'Asian/Chinese/Thai/Nepal/Indian', 'American']\n",
    "fig = plt.figure(figsize=(10,10))\n",
    "plt.imshow(cm, interpolation='nearest', cmap=plt.cm.Reds)\n",
    "plt.title('Confusion matrix for Ensemble')\n",
    "plt.colorbar()\n",
    "tick_marks = np.arange(len(classes))\n",
    "\n",
    "plt.xticks(tick_marks, classes, rotation=45)\n",
    "plt.yticks(tick_marks, classes)\n",
    "\n",
    "normalize = False\n",
    "fmt = '.2f' if normalize else 'd'\n",
    "\n",
    "thresh = cm.max() / 2.\n",
    "for i, j in itertools.product(range(cm.shape[0]), range(cm.shape[1])):\n",
    "    plt.text(j, i, format(cm[i, j], fmt),\n",
    "             horizontalalignment=\"center\",\n",
    "             color=\"white\" if cm[i, j] > thresh else \"black\")\n",
    "\n",
    "plt.tight_layout()\n",
    "plt.ylabel('True label')\n",
    "plt.xlabel('Predicted label')\n",
    "\n",
    "plt.show()"
   ]
  },
  {
   "cell_type": "code",
   "execution_count": 52,
   "metadata": {},
   "outputs": [
    {
     "ename": "NameError",
     "evalue": "name 'average_rate' is not defined",
     "output_type": "error",
     "traceback": [
      "\u001b[1;31m---------------------------------------------------------------------------\u001b[0m",
      "\u001b[1;31mNameError\u001b[0m                                 Traceback (most recent call last)",
      "\u001b[1;32m<ipython-input-52-af2b1272a7bf>\u001b[0m in \u001b[0;36m<module>\u001b[1;34m\u001b[0m\n\u001b[0;32m      7\u001b[0m \u001b[0mpredicted_values\u001b[0m \u001b[1;33m=\u001b[0m \u001b[0mcm\u001b[0m\u001b[1;33m.\u001b[0m\u001b[0mdiagonal\u001b[0m\u001b[1;33m(\u001b[0m\u001b[1;33m)\u001b[0m\u001b[1;33m\u001b[0m\u001b[1;33m\u001b[0m\u001b[0m\n\u001b[0;32m      8\u001b[0m \u001b[1;33m\u001b[0m\u001b[0m\n\u001b[1;32m----> 9\u001b[1;33m \u001b[0mprint\u001b[0m\u001b[1;33m(\u001b[0m\u001b[1;34m\"Lift for Italian/French/Greek:\"\u001b[0m\u001b[1;33m,\u001b[0m \u001b[0mpredicted_values\u001b[0m\u001b[1;33m[\u001b[0m\u001b[1;36m0\u001b[0m\u001b[1;33m]\u001b[0m\u001b[1;33m/\u001b[0m\u001b[0maverage_rate\u001b[0m\u001b[1;33m[\u001b[0m\u001b[1;36m1\u001b[0m\u001b[1;33m]\u001b[0m\u001b[1;33m)\u001b[0m\u001b[1;33m\u001b[0m\u001b[1;33m\u001b[0m\u001b[0m\n\u001b[0m\u001b[0;32m     10\u001b[0m \u001b[0mprint\u001b[0m\u001b[1;33m(\u001b[0m\u001b[1;34m\"Lift for Spanish/mexican:\"\u001b[0m\u001b[1;33m,\u001b[0m \u001b[0mpredicted_values\u001b[0m\u001b[1;33m[\u001b[0m\u001b[1;36m1\u001b[0m\u001b[1;33m]\u001b[0m\u001b[1;33m/\u001b[0m\u001b[0maverage_rate\u001b[0m\u001b[1;33m[\u001b[0m\u001b[1;36m2\u001b[0m\u001b[1;33m]\u001b[0m\u001b[1;33m)\u001b[0m\u001b[1;33m\u001b[0m\u001b[1;33m\u001b[0m\u001b[0m\n\u001b[0;32m     11\u001b[0m \u001b[0mprint\u001b[0m\u001b[1;33m(\u001b[0m\u001b[1;34m\"Lift for Asian/Chinese/Thai/Nepal/Indian:\"\u001b[0m\u001b[1;33m,\u001b[0m \u001b[0mpredicted_values\u001b[0m\u001b[1;33m[\u001b[0m\u001b[1;36m2\u001b[0m\u001b[1;33m]\u001b[0m\u001b[1;33m/\u001b[0m\u001b[0maverage_rate\u001b[0m\u001b[1;33m[\u001b[0m\u001b[1;36m4\u001b[0m\u001b[1;33m]\u001b[0m\u001b[1;33m)\u001b[0m\u001b[1;33m\u001b[0m\u001b[1;33m\u001b[0m\u001b[0m\n",
      "\u001b[1;31mNameError\u001b[0m: name 'average_rate' is not defined"
     ]
    }
   ],
   "source": [
    "#Calculating lifts for the selected model\n",
    "\n",
    "#Now the normalize the diagonal entries\n",
    "cm = cm.astype('float') / cm.sum(axis=1)[:, np.newaxis]\n",
    "\n",
    "#The diagonal entries are the accuracies of each class\n",
    "predicted_values = cm.diagonal()\n",
    "\n",
    "print(\"Lift for Italian/French/Greek:\", predicted_values[0]/average_rate[1])\n",
    "print(\"Lift for Spanish/mexican:\", predicted_values[1]/average_rate[2])\n",
    "print(\"Lift for Asian/Chinese/Thai/Nepal/Indian:\", predicted_values[2]/average_rate[4])\n",
    "print(\"Lift for American:\", predicted_values[3]/average_rate[5])"
   ]
  },
  {
   "cell_type": "code",
   "execution_count": null,
   "metadata": {},
   "outputs": [],
   "source": [
    "# Final hold-out sample testing"
   ]
  },
  {
   "cell_type": "code",
   "execution_count": null,
   "metadata": {},
   "outputs": [],
   "source": [
    "# Applying Gradient Boosting Classifier\n",
    "\n",
    "from sklearn.ensemble import GradientBoostingClassifier\n",
    "\n",
    "grad_boost = GradientBoostingClassifier(random_state=42)\n",
    "grad_boost.fit(X_train, y_train)\n",
    "\n",
    "gb_est = grad_boost.predict(x_test)\n",
    "accuracy_score(y_test, gb_est)\n",
    "#print(gb_est)"
   ]
  },
  {
   "cell_type": "code",
   "execution_count": null,
   "metadata": {},
   "outputs": [],
   "source": [
    "# Applying AdaBoosting Classifier\n",
    "\n",
    "from sklearn.ensemble import AdaBoostClassifier\n",
    "from sklearn.datasets import make_classification\n",
    "\n",
    "ada_boost = AdaBoostClassifier(n_estimators=100, random_state=42)\n",
    "ada_boost.fit(X_train, y_train)\n",
    "AdaBoostClassifier(n_estimators=100, random_state=0)\n",
    "\n",
    "\n",
    "ab_est = ada_boost.predict(x_test)\n",
    "accuracy_score(y_test, ab_est)\n",
    "#print(ab_est)"
   ]
  },
  {
   "cell_type": "code",
   "execution_count": null,
   "metadata": {},
   "outputs": [],
   "source": []
  },
  {
   "cell_type": "code",
   "execution_count": null,
   "metadata": {},
   "outputs": [],
   "source": []
  },
  {
   "cell_type": "code",
   "execution_count": null,
   "metadata": {},
   "outputs": [],
   "source": []
  },
  {
   "cell_type": "code",
   "execution_count": null,
   "metadata": {},
   "outputs": [],
   "source": []
  },
  {
   "cell_type": "code",
   "execution_count": null,
   "metadata": {},
   "outputs": [],
   "source": []
  }
 ],
 "metadata": {
  "kernelspec": {
   "display_name": "Python 3",
   "language": "python",
   "name": "python3"
  },
  "language_info": {
   "codemirror_mode": {
    "name": "ipython",
    "version": 3
   },
   "file_extension": ".py",
   "mimetype": "text/x-python",
   "name": "python",
   "nbconvert_exporter": "python",
   "pygments_lexer": "ipython3",
   "version": "3.7.3"
  }
 },
 "nbformat": 4,
 "nbformat_minor": 2
}
