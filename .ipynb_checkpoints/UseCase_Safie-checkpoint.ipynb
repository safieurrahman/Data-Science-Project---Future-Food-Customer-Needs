{
 "cells": [
  {
   "cell_type": "markdown",
   "metadata": {},
   "source": [
    "# Project: Future Food Consumer Needs"
   ]
  },
  {
   "cell_type": "code",
   "execution_count": 2,
   "metadata": {},
   "outputs": [],
   "source": [
    "#import libraries\n",
    "\n",
    "import pandas as pd\n",
    "import numpy as np\n",
    "\n",
    "from matplotlib import pyplot as plt\n",
    "import itertools\n",
    "from sklearn.metrics import classification_report, confusion_matrix, accuracy_score"
   ]
  },
  {
   "cell_type": "code",
   "execution_count": 6,
   "metadata": {},
   "outputs": [],
   "source": [
    "# import data using pandas\n",
    "df = pd.read_csv('Food_Preference.csv')\n",
    "df1 = pd.read_csv('food_coded.csv')\n",
    "\n",
    "#print(df)\n",
    "#print(df1)"
   ]
  },
  {
   "cell_type": "code",
   "execution_count": 5,
   "metadata": {},
   "outputs": [
    {
     "name": "stdout",
     "output_type": "stream",
     "text": [
      "0  :  GPA\n",
      "1  :  Gender\n",
      "2  :  breakfast\n",
      "3  :  calories_chicken\n",
      "4  :  calories_day\n",
      "5  :  calories_scone\n",
      "6  :  coffee\n",
      "7  :  comfort_food\n",
      "8  :  comfort_food_reasons\n",
      "9  :  comfort_food_reasons_coded\n",
      "10  :  cook\n",
      "11  :  comfort_food_reasons_coded.1\n",
      "12  :  cuisine\n",
      "13  :  diet_current\n",
      "14  :  diet_current_coded\n",
      "15  :  drink\n",
      "16  :  eating_changes\n",
      "17  :  eating_changes_coded\n",
      "18  :  eating_changes_coded1\n",
      "19  :  eating_out\n",
      "20  :  employment\n",
      "21  :  ethnic_food\n",
      "22  :  exercise\n",
      "23  :  father_education\n",
      "24  :  father_profession\n",
      "25  :  fav_cuisine\n",
      "26  :  fav_cuisine_coded\n",
      "27  :  fav_food\n",
      "28  :  food_childhood\n",
      "29  :  fries\n",
      "30  :  fruit_day\n",
      "31  :  grade_level\n",
      "32  :  greek_food\n",
      "33  :  healthy_feeling\n",
      "34  :  healthy_meal\n",
      "35  :  ideal_diet\n",
      "36  :  ideal_diet_coded\n",
      "37  :  income\n",
      "38  :  indian_food\n",
      "39  :  italian_food\n",
      "40  :  life_rewarding\n",
      "41  :  marital_status\n",
      "42  :  meals_dinner_friend\n",
      "43  :  mother_education\n",
      "44  :  mother_profession\n",
      "45  :  nutritional_check\n",
      "46  :  on_off_campus\n",
      "47  :  parents_cook\n",
      "48  :  pay_meal_out\n",
      "49  :  persian_food\n",
      "50  :  self_perception_weight\n",
      "51  :  soup\n",
      "52  :  sports\n",
      "53  :  thai_food\n",
      "54  :  tortilla_calories\n",
      "55  :  turkey_calories\n",
      "56  :  type_sports\n",
      "57  :  veggies_day\n",
      "58  :  vitamins\n",
      "59  :  waffle_calories\n",
      "60  :  weight\n"
     ]
    }
   ],
   "source": [
    "for (i,y) in enumerate(df1.columns):\n",
    "    print (i,\" : \",y)"
   ]
  },
  {
   "cell_type": "code",
   "execution_count": 19,
   "metadata": {},
   "outputs": [
    {
     "data": {
      "text/html": [
       "<div>\n",
       "<style scoped>\n",
       "    .dataframe tbody tr th:only-of-type {\n",
       "        vertical-align: middle;\n",
       "    }\n",
       "\n",
       "    .dataframe tbody tr th {\n",
       "        vertical-align: top;\n",
       "    }\n",
       "\n",
       "    .dataframe thead th {\n",
       "        text-align: right;\n",
       "    }\n",
       "</style>\n",
       "<table border=\"1\" class=\"dataframe\">\n",
       "  <thead>\n",
       "    <tr style=\"text-align: right;\">\n",
       "      <th></th>\n",
       "      <th>eating_changes_coded</th>\n",
       "      <th>eating_changes_coded1</th>\n",
       "      <th>diet_current_coded</th>\n",
       "      <th>ideal_diet_coded</th>\n",
       "    </tr>\n",
       "  </thead>\n",
       "  <tbody>\n",
       "    <tr>\n",
       "      <th>0</th>\n",
       "      <td>1</td>\n",
       "      <td>1</td>\n",
       "      <td>1</td>\n",
       "      <td>8</td>\n",
       "    </tr>\n",
       "    <tr>\n",
       "      <th>1</th>\n",
       "      <td>1</td>\n",
       "      <td>2</td>\n",
       "      <td>2</td>\n",
       "      <td>3</td>\n",
       "    </tr>\n",
       "    <tr>\n",
       "      <th>2</th>\n",
       "      <td>1</td>\n",
       "      <td>3</td>\n",
       "      <td>3</td>\n",
       "      <td>6</td>\n",
       "    </tr>\n",
       "    <tr>\n",
       "      <th>3</th>\n",
       "      <td>1</td>\n",
       "      <td>3</td>\n",
       "      <td>2</td>\n",
       "      <td>2</td>\n",
       "    </tr>\n",
       "    <tr>\n",
       "      <th>4</th>\n",
       "      <td>3</td>\n",
       "      <td>4</td>\n",
       "      <td>2</td>\n",
       "      <td>2</td>\n",
       "    </tr>\n",
       "  </tbody>\n",
       "</table>\n",
       "</div>"
      ],
      "text/plain": [
       "   eating_changes_coded  eating_changes_coded1  diet_current_coded  \\\n",
       "0                     1                      1                   1   \n",
       "1                     1                      2                   2   \n",
       "2                     1                      3                   3   \n",
       "3                     1                      3                   2   \n",
       "4                     3                      4                   2   \n",
       "\n",
       "   ideal_diet_coded  \n",
       "0                 8  \n",
       "1                 3  \n",
       "2                 6  \n",
       "3                 2  \n",
       "4                 2  "
      ]
     },
     "execution_count": 19,
     "metadata": {},
     "output_type": "execute_result"
    }
   ],
   "source": [
    "# To visualize the columns to be used\n",
    "df_new = df1.iloc[:,[17,18,14,36]]\n",
    "df_new.head(5)"
   ]
  },
  {
   "cell_type": "code",
   "execution_count": 27,
   "metadata": {},
   "outputs": [
    {
     "name": "stdout",
     "output_type": "stream",
     "text": [
      "(125, 3)\n",
      "(125, 1)\n"
     ]
    }
   ],
   "source": [
    "data = pd.read_csv('food_coded.csv', header=None)\n",
    "X = data.iloc[1:,[17,18,14]].values\n",
    "y = data.iloc[1:, [36]].values\n",
    "\n",
    "print (X.shape)\n",
    "print (y.shape)"
   ]
  },
  {
   "cell_type": "code",
   "execution_count": 28,
   "metadata": {},
   "outputs": [],
   "source": [
    "# Splitting the data into the Training set and Test set\n",
    "from sklearn.model_selection import train_test_split\n",
    "X_train, X_test, y_train, y_test = train_test_split(X, y, test_size=0.2, random_state=10)"
   ]
  },
  {
   "cell_type": "code",
   "execution_count": 30,
   "metadata": {},
   "outputs": [],
   "source": [
    "# imputation\n",
    "\n",
    "from sklearn.impute import SimpleImputer \n",
    "imputer = SimpleImputer()\n",
    "\n",
    "\"\"\" \n",
    "OR\n",
    "\n",
    "from sklearn.preprocessing import Imputer\n",
    "imputer = Imputer()\n",
    "\n",
    "\"\"\"\n",
    "\n",
    "X_train = imputer.fit_transform(X_train)\n",
    "X_test = imputer.transform(X_test)"
   ]
  },
  {
   "cell_type": "code",
   "execution_count": 31,
   "metadata": {},
   "outputs": [],
   "source": [
    "# scaling\n",
    "from sklearn.preprocessing import StandardScaler\n",
    "sc = StandardScaler()\n",
    "X_train = sc.fit_transform(X_train)\n",
    "X_test = sc.transform(X_test)"
   ]
  },
  {
   "cell_type": "code",
   "execution_count": 35,
   "metadata": {},
   "outputs": [
    {
     "name": "stdout",
     "output_type": "stream",
     "text": [
      "SVC Accuracy : 0.36\n",
      "['2' '2' '2' '2' '2' '2' '3' '2' '2' '2' '3' '2' '2' '2' '2' '2' '2' '2'\n",
      " '2' '2' '3' '2' '2' '2' '2']\n"
     ]
    },
    {
     "name": "stderr",
     "output_type": "stream",
     "text": [
      "C:\\ProgramData\\Anaconda3\\lib\\site-packages\\sklearn\\utils\\validation.py:760: DataConversionWarning: A column-vector y was passed when a 1d array was expected. Please change the shape of y to (n_samples, ), for example using ravel().\n",
      "  y = column_or_1d(y, warn=True)\n"
     ]
    }
   ],
   "source": [
    "# Use any two classifiers\n",
    "from sklearn.svm import SVC, LinearSVC\n",
    "from sklearn.tree import DecisionTreeClassifier\n",
    "from sklearn.linear_model import LogisticRegression\n",
    "from sklearn.neighbors import KNeighborsClassifier\n",
    "\n",
    "SVC = SVC()\n",
    "SVC.fit(X_train,y_train)\n",
    "\n",
    "y2_SVC_model = SVC.predict(X_test)\n",
    "print(\"SVC Accuracy :\", accuracy_score(y_test, y2_SVC_model))\n",
    "print (y2_SVC_model)"
   ]
  },
  {
   "cell_type": "code",
   "execution_count": null,
   "metadata": {},
   "outputs": [],
   "source": []
  },
  {
   "cell_type": "code",
   "execution_count": null,
   "metadata": {},
   "outputs": [],
   "source": []
  }
 ],
 "metadata": {
  "kernelspec": {
   "display_name": "Python 3.7.6 64-bit ('base': conda)",
   "language": "python",
   "name": "python37664bitbaseconda247eafd1a1b94d2fa375ea9fb53475d2"
  },
  "language_info": {
   "codemirror_mode": {
    "name": "ipython",
    "version": 3
   },
   "file_extension": ".py",
   "mimetype": "text/x-python",
   "name": "python",
   "nbconvert_exporter": "python",
   "pygments_lexer": "ipython3",
   "version": "3.7.6"
  }
 },
 "nbformat": 4,
 "nbformat_minor": 4
}
